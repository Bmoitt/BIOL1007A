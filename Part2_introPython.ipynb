{
  "nbformat": 4,
  "nbformat_minor": 0,
  "metadata": {
    "colab": {
      "provenance": [],
      "include_colab_link": true
    },
    "kernelspec": {
      "name": "python3",
      "display_name": "Python 3"
    },
    "language_info": {
      "name": "python"
    }
  },
  "cells": [
    {
      "cell_type": "markdown",
      "metadata": {
        "id": "view-in-github",
        "colab_type": "text"
      },
      "source": [
        "<a href=\"https://colab.research.google.com/github/Bmoitt/BIOL1007A/blob/main/Part2_introPython.ipynb\" target=\"_parent\"><img src=\"https://colab.research.google.com/assets/colab-badge.svg\" alt=\"Open In Colab\"/></a>"
      ]
    },
    {
      "cell_type": "markdown",
      "source": [
        "## <span style=\"color:black\">Python Part 2: Conditionals, Loops, and Functions</span>\n",
        "\n",
        "The beauty of Python is that it can be used to convey any idea that you can express precisely. In fact, once you have mastered these tools, you may find that it is much easier to express your thoughts because natural languages are full of ambiguities. Conditional statements are also a major part of making the python language Turing complete.\n",
        "\n",
        "### Conditional Statements: if, elif, else\n",
        "![image1.jpeg](data:image/jpeg;base64,/9j/4AAQSkZJRgABAgAAAQABAAD/2wBDAAgGBgcGBQgHBwcJCQgKDBQNDAsLDBkSEw8UHRofHh0aHBwgJC4nICIsIxwcKDcpLDAxNDQ0Hyc5PTgyPC4zNDL/2wBDAQkJCQwLDBgNDRgyIRwhMjIyMjIyMjIyMjIyMjIyMjIyMjIyMjIyMjIyMjIyMjIyMjIyMjIyMjIyMjIyMjIyMjL/wAARCAIMAxIDASIAAhEBAxEB/8QAHwAAAQUBAQEBAQEAAAAAAAAAAAECAwQFBgcICQoL/8QAtRAAAgEDAwIEAwUFBAQAAAF9AQIDAAQRBRIhMUEGE1FhByJxFDKBkaEII0KxwRVS0fAkM2JyggkKFhcYGRolJicoKSo0NTY3ODk6Q0RFRkdISUpTVFVWV1hZWmNkZWZnaGlqc3R1dnd4eXqDhIWGh4iJipKTlJWWl5iZmqKjpKWmp6ipqrKztLW2t7i5usLDxMXGx8jJytLT1NXW19jZ2uHi4+Tl5ufo6erx8vP09fb3+Pn6/8QAHwEAAwEBAQEBAQEBAQAAAAAAAAECAwQFBgcICQoL/8QAtREAAgECBAQDBAcFBAQAAQJ3AAECAxEEBSExBhJBUQdhcRMiMoEIFEKRobHBCSMzUvAVYnLRChYkNOEl8RcYGRomJygpKjU2Nzg5OkNERUZHSElKU1RVVldYWVpjZGVmZ2hpanN0dXZ3eHl6goOEhYaHiImKkpOUlZaXmJmaoqOkpaanqKmqsrO0tba3uLm6wsPExcbHyMnK0tPU1dbX2Nna4uPk5ebn6Onq8vP09fb3+Pn6/9oADAMBAAIRAxEAPwD3+iig0AFFFFABRRRQAUUUUAFFFFABRRRQAUUUUAFFFFABRRRQAUUUUAFFFFABRRRQAUUUUAFFFFABRRRQAUUUUAFFFFABRRRQAUUUUAFFFFABRRRQAlFFLQAlFLRQAlFLRQAlFLRQAlFLRQAlFLRQAlFLRQAlFLRQAlFLRQAlFLRQAlFLRQAlFLRQAlFLRQAlFLRQAlFLRQAlFLRQAlFLRQAlFLRQAlFLRQAlFLRQAlFLRQAUUUUAJS0UUAFJS0UAJS0UUAJRS0UAJRS0UAJRS0UAJRS0UAFFFFABRRRQAUUUUAFFFFABRRRQAUUUUAFFFFABRRRQAUUUUAFFFFABRRRQAUUUUAFFFFABRRRQAUUUUAFFFFABRRRQAUUUUAFFFFABRRRQAUUUUAJS0UUAFJS0lABRS0UAJS0UUAFJS0UAJRRiloASilooAKKKKAEopaKAEopaKAEpaKKAEopaTFABRS0UAJS0UUAFJS0UAJRS0UAJRS0UAFJS0UAJRRiloASilooAKKKKACiiigAooooAKKKKACiiigAooooAKKKKACiiigAooooAKKKKACiiigAooooAKKKKACiiigAooooAKKKKACiiigAooooAKKKKACiiigAooooAKKKKACiiigAooooAKKKKACiiigAooooAKKKKACiiigAooooAKKKKACiiigAooooAKKKKACijtRQAUUUUAFFFFABRRRQAUUUUAFFFFABRRRQAUUUUAFFFFABRRRQAUUUUAFFFFABRRRQAUUUUAFFFFABRRRQAUUUUAFFFFABRRRQAUUUUAFFFFABRRRQAUUUUAFFFFABRRRQAUUUUAFFFFABRRRQAUUUUAFFFFABRRRQAUUUUAFFFFABRRRQAUUUUAFFFFABRRRQAUUUUAFFFFABSUtFABRRRQAUUUUAFFFFABRRRQAUUUUAFFFFABRRRQAUUUUAFFFFABRRRQAdqKKKACiiigAooooAKKKKACiiigAooo70AFFFFABRRRQAUUUUAFFFFABRR3ooAO1FFFABRRRQAUUUUAFFFFABR2oooAKKKKACiiigAooooAKKKKACiiigAo70Ud6ACiiigAooooAKKKKACiiigAooooAKKKKACiiigAooooAKKKKACiiigAooooAKKKKACiiigAooooAKKKKACiiigAooooAKKKKACiiigAooooAKKKKACiiigAooooAKKKKACiiigAooooAKKKKACiiigAoo7UUAFFFFABRRRQAUUUUAFFFFABR3oo70AFFFFABRRRQAUUUUAFFFFAB3oo70UAFFFFABRRRQAUUUUAFFFFABRRRQAUUUUAFFFFABRRRQAUUUUAFFFFABRRRQAUUUUAFFFFABRRRQAUUUUAFFFFABRRRQAUUUUAFFFFABRRRQAUUUUAFFFFABRRRQAUUUUAFFFFABRRRQAUUUUAFFFFABRRRQAUUUUAFFFFABRRRQAUUUUAFFFFABRRRQAUUUUAFFFFABRRRQAUUUUAFFFFABRRRQAUUUUAFFFFABRRRQAUUUUAFFFFABRRRQAUUUUAFFFFABRRRQAUUUUAFFFFABRRRQAUUUUAFFFFABRRRQAUUUUAFFFFABRRRQAUUUUAFFFFABRRRQAUUUUAFFFFABRRRQAUUUUAFFFFABRRRQAUUUUAFFFFABRRRQAUUUUAFFFFABRRRQAUUUUAFFFFABRRRQAUUUUAFFFFABRRRQAUUUUAFFFFABRRRQAUUUUAFFFFABRRRQAUUUUAFFFFABRRRQAUUUUAFFFFABRRRQAUUUUAFFFFABRRRQAUUUUAFFFFABRRRQAUUUUAFFFFABRRRQAUUUUAFFFFABRRRQAUUUUAFFFFABRRRQAUUUUAFFFFABRRRQAUUUUAFFFFABRRRQAUUUUAFFFFABRRRQAUUUUAFFFFABRRRQAUUUUAFNzzTqo6tO9rpV1PEdskcTMpxnBAJFNK7siKk1CLk+hdzRmvMP+Ev1nP/Hyv/ftf8KT/hL9a/5+V/79r/hXof2XX8jwv9ZMJ2f3Hp+aM15h/wAJfrX/AD8r/wB+1/wo/wCEv1r/AJ+V/wC/a/4Uf2XX8g/1kwnZ/ceoZozXl/8Awl+tf8/K/wDftf8ACremeKdWudVtYZbgGOSVVYCMDIJ+lTLLa0U5OxdPiHC1JqCTuz0XNLTPSn1wHuiUuaQ96+f/AIh/E/xZoHjvU9M07UEitIGQRobdGIzGpPJGepNS5JblRg5OyPoHNFfK/wDwufxx/wBBWL/wFi/+Jo/4XP44/wCgrF/4Cxf/ABNT7RGnsJn1RRXyv/wufxx/0FYv/AWL/wCJo/4XP44/6CsX/gLF/wDE0e0QewmfU9Ga+WP+Fz+Of+grF/4Cxf8AxNdpoXxF8TX+jW9zcXytK+7cRAg6MR2FZ1cTClHmkdGGy6tiJcsLHueaM147/wAJ14g/5/B/36X/AAo/4TrxB/z+D/v0v+Fc/wDadHzO/wD1exfl957FmjNeO/8ACdeIP+fwf9+l/wAKP+E68Qf8/g/79L/hR/adHzF/q/i/L7z2LNGa8d/4TrxB/wA/g/79L/hR/wAJ14g/5/B/36X/AAo/tOj5h/q/i/L7z2EmlBrx+Pxxr7SKDeDBIH+qX/CvXISWiRj1IzXRQxMK9+XocGNy+rg2va217EmfajNIa8x8Q+L9ZsNeu7W2uQkMbAKvlqccA9xTr4iNFJyJweCq4ubhT3R6fmjNeO/8J14g/wCfxf8Av0v+FH/CdeIP+fxf+/Sf4Vzf2nR8z0f9X8X5feexZFFeO/8ACc+IDx9sH/fpf8K87b4zeOAxA1WPGf8An1i/+Jraji6dW/L0OTFZXXw1vaW1Pqekr5Y/4XP44/6CsX/gLF/8TR/wufxx/wBBWL/wFi/+Jrb2iOT2Ez6ozRmvlf8A4XP44/6CsX/gLF/8TR/wufxx/wBBWL/wFi/+Jo9og9hM+pycUZr5Y/4XP44/6CsX/gJF/wDE16Db+PfEUlvFI14u5kBOIl9PpWVbFQpJOR1YXLK+JbULaHs2aM147/wnXiD/AJ/B/wB+l/wo/wCE68Qf8/g/79L/AIVh/aVHzOz/AFexfl957DmlzXj3/CdeIP8An9X/AL9L/hXrsLF4UY9SATW9DEwrX5ehw43L6uDt7W2vYkNJmmuxCEjqBXkH/CdeIP8An8H/AH6X/CnXxMKFubqGCy+tjL+ytp3PYs0Zrx3/AITrxB/z+L/36X/Cj/hOvEH/AD+D/v0v+Fc/9pUfM7v9X8X5feew5pa8Q1b4heJLTSri4hvlWREyp8lDjn6Vw/8Awufxz/0FYv8AwFi/+JreliYVVeJxYnLq2GkozsfU9Lmvlf8A4XP45/6CsX/gLF/8TR/wufxx/wBBWL/wFi/+JrX2iOb2Ej6ozRXyv/wufxx/0FYv/AWL/wCJo/4XP44/6CsX/gLF/wDE0e0QewmfUxNANfMFl8YvG019BE+qRlXcAj7LGOM/7td8PHPiAf8AL4v/AH6X/Csa2Mp0muY7MLlVfEpuFtD2LNGa8d/4TrxB/wA/g/79L/hR/wAJ14g/5/B/36X/AArH+06PmdX+r2L8vvPYc0ua8t0Txhrd7rdpbz3StFJIFYeWoyPyr1EdK6aGIjWV4nnYzBVMJNQqbsUnikzWV4kvZ9P0G5urZtkqDKtjOPzrzP8A4TrxB/z+D/v0v+FRXxdOi7SNcHllbFxcqdtO57FmjNeO/wDCdeIP+fwf9+l/wo/4TrxB/wA/g/79L/hWP9p0fM7P9X8X5feexZorwfxH8SPFGnaWZ7a/RJN4GTAh4/EVyH/C5/HH/QVi/wDAWL/4muiliIVI80TgxGAq4efJO1z6oozXyv8A8Ln8cf8AQVi/8BYv/iaP+Fz+OP8AoKxf+AsX/wATWntEYewmfU+aM18sf8Ln8cf9BWL/AMBYv/iaP+Fz+OP+grF/4Cxf/E0e0QewkfU2aXNfNWgfFrxlqGsQ21xqUbRMGyBbRjopPULXZ/8ACdeIP+fwf9+l/wAK56uNp0naR34bJ8RiIc8LWPYs0Zrx3/hOvEH/AD+D/v0v+FH/AAnXiD/n8H/fpf8ACs/7To+Zv/q9i/L7z2ENTq848JeKNW1TX4rW7uA8TIxK7FHQewr0YV1Ua0a0eaJ5mLwtTC1PZ1NxaKKK2OYKKKKACiiigAooooAKKKKACiiigAooooAKKKKACiiigAooooAKKKKACiiigAooooAKzNe/5AV//wBcH/8AQTWnWZr3/ICv/wDrg/8A6Caul8aMMV/An6M8l7CijsKK+vR+VBRRRTAKvaL/AMhyw/67p/OqNX9F/wCQ5Y/9d0/nWVf+HL0OjCfx4eqPXaWk7UtfIn6ohDXyf8XP+So61/vRf+ikr6wNfJ/xc/5KjrX+9F/6KSs6mxvh/iOKooorE6wooooGFekeFv8AkW7T/gf/AKGa83r0jwt/yLdp/wAD/wDQzXFj/wCF8z2cl/jv0NkdKKB0orxj6gKKKKACiiigB8X+uT/eFe+Qf6iP/dFeBxf65P8AeFe+Qf6iP/dFexlW0j5TiXen8yU14r4t/wCRpv8A/fH/AKCK9qPSvFfFv/I03/8Avj/0EVrmn8Nepz8O/wC8S9P1Ri0UUV4R9mIOteQP99vrXr4615A/32+tenl/2j5/PNoCUUUV6Z88FFFFABXrVp/x5Qf9c1/lXkvavWrT/jyg/wCua/yrzsx+FHu5F8UyeiiivKPpAr3+3/49ov8AdFeAV7/b/wDHtF/uivYyr7R8pxL/AMu/n+g6T/VN9K+fa+gpP9U30r59ozXaIcNb1Pl+otFFFeOfVmZ4g/5AF5/uf1FeY16d4g/5AF5/uf1FeY16+X/Az5jO/wCNH0Ciiiu88UKKKKALWm/8hO2/66L/ADr1evKNN/5Cdt/10X+der15eY/FE+kyP4JBRRRXmnump4a/5GSw/wCuor3AV4f4a/5GSw/66ivcBXu5Z/DfqfF8Rf7xH0MLxl/yK17/ALteL17P4y/5Fa9/3a8YFcuafxEejw5/Bn6i0UUnevMPozA8Yf8AIDP/AF0WvPu9eg+Mf+QGf+ui1593r2sD/CPks4/3j5BRRRXYeWFFFFAG14T/AORjt/o//oJr0avOfCf/ACMVv9H/APQTXow6V4+YfxF6H1WS/wC7v1FooorhPXOm8Bf8jXB/uP8Ayr16vIfAX/I1wf7j/wAq9e7V9Blv8H5nw3EH++fJC0UUV6B4gUUUUAFFFFABRRRQAUUUUAFFFFABRRRQAUUUUAFFFFABRRRQAUUUUAFFFFABRRRQAVma9/yAr/8A64P/AOgmtOszXv8AkBX/AP1wf/0E1dL40YYr+BP0Z5L2FFHYUV9ej8qCiiimAVf0X/kOWP8A13T+dUKv6L/yHLH/AK7p/Osq/wDDl6HRhP48PVHrvalpO1LXyJ+qIQ18n/Fz/kqOtf70X/opK+sDXyf8XP8AkqOtf70X/opKzqbG9D4jiqKKKxOsKKKKBhXpHhb/AJFy1/4H/wChmvN69I8Lf8i3af8AA/8A0M1xY/8AhfM9nJf479DZHSigdKK8Y+oCiiigAooooAfF/rk/3hXvsH/HvH/uivAov9cn+8K99g/494/90V7GVfaPlOJd6fzHmvFvFv8AyNN//vj/ANBFe1GvFfFv/I03/wDvj/0EVrmn8Nepz8O/7xL0/VGLRRRXhH2YnevIH++31r18da8gf77fWvTy/wC0fP57tASiiivTPngooooAK9atP+PKD/rmv8q8lr1q0/48oP8Armv8q87MfhR7uRfFMnoooryj6QK9/t/+PaL/AHRXgFe/2/8Ax7R/7or2Mq+0fKcS/wDLv5/oOk/1TfSvn2voKT/VN9K+faM12iHDW9T5fqLRRRXjn1ZmeIP+QBef7n9RXmNeneIP+QBef7n9RXmNevl/wM+Yzv8AjR9AooorvPFCiiigC1pv/ITtv+ui/wA69XryjTf+Qnbf9dF/nXq1eXmPxRPpMj+CQtFJS15p7pqeGv8AkZLD/rqK9wFeIeGv+RksP+uor28V7uWfw36nxfEX+8R9DB8Zf8ite/7teMCvZ/GX/IrXv+7XjArlzT+Ij0eHP4M/UWjvSUV5h9GYHjH/AJAR/wCui1593r0Hxj/yAj/10WvPu9e1gf4R8lnH+8fIKKKK7DywooooA2vCf/IxW/0f/wBBNejV5z4T/wCRit/o/wD6Ca9GryMw/iL0Pqsl/wB3fqLRRRXAeudN4C/5GuD/AHH/AJV692ryHwF/yNcH+4/8q9e7V9Blv8H5nw3EH++fJC0UUV6B4gUUUUAFFFFABRRRQAUUUUAFFFFABRRRQAUUUUAFFFFABRRRQAUUUUAFFFFABRRRQAVma/8A8gK//wCuD/8AoJrTrM1//kBX3/XB/wD0E1dL40c+K/gT9GeS+lFHpRX16PysKKKKYBV/Rf8AkOWP/XdP51Qq/ov/ACHLH/run86yr/w5eh0YT+PD1R672paT0pa+RP1RCV8n/Fz/AJKjrX+9F/6KSvq89a8Z8aeHtJvfFt9cXNlHJM5Tcxzk/Io9a2oYaWIlyRZyYvMoYCCqzV76HgNFewf8Ipof/QNi/M/40f8ACKaH/wBA2L8z/jXV/Y1T+ZHnf634f+Rnj9Fewf8ACKaH/wBA2L8z/jR/wimh/wDQNi/M/wCNH9i1P5kH+t2H/kZ4/XpHhb/kXLX/AIH/AOhmtj/hFND/AOgbF+Z/xr1Dwf4X0P8A4Rm1H9mW5xv6rk/favPzHKKkaavJbnu5DxVQnXaUHseYDpRXtn/CLaF/0C7b/vij/hFtC/6Bdt/3xXif2XP+Y+u/1kpfyM8Tor2z/hFtC/6Bdt/3xR/wi2hf9Au2/wC+KP7Ln/MH+slP+RnidFe2f8ItoX/QLtv++KP+EW0L/oF23/fFH9lz/mD/AFkp/wAjPFYv9cn+8K99g/494/8AdFZo8L6GCCNMtsg5HyVqhdqgDgCu7B4V0L3d7njZrmUca48qtYWvFfFv/I03/wDvj/0EV7SRkVmz+HtIupmnn0+CSV+WZlyTVYvDuvFRTM8sx0cHVc5K90eH0V7Z/wAItoX/AEDLb/vij/hFtC/6Bdt/3xXnf2XP+Y93/WSl/IzxLvXkD/fb619lnwvoYB/4ldt/3xXi8/hTQ/tEn/Eth+8emfX6162WZTUk5JSR85xDxRRpxg3B9TxrijivYf8AhFND/wCgbF+Z/wAaP+EU0P8A6BsX5n/GvW/sWp/Mj5f/AFuw/wDIzx7ilr2D/hFND/6BsX5n/Gj/AIRTQ/8AoGxfmf8AGj+xan8yD/W7D/yM8fr1u0/484P+ua/yqX/hFNC76bF+Z/xr2i28L6H9mj/4ldt90D7leXmeU1IqKckfR8PcU0akp2g+h4xRXtn/AAi+hf8AQLtv++KP+EX0L/oF23/fFeR/Zc/5j6j/AFkpfyM8Tr3+2P8Ao0f+6Kyz4X0Ptpdt/wB8VrqoUAAYA7V24PCuhe7vc8fNcyjjeXlVrXEk/wBW30r59r6EIzx2rI/4RfQ/+gXbf98U8ZhXXtZ7BlWYxwTk5K97HiVLXtn/AAi+h/8AQLtv++KP+EW0P/oF23/fFcP9lz/mPY/1kpfyM8A8Qf8AIAvP9z+orzHivrzX/C2hHQb0HS7Ygwt/B7V5H/wimh/9A2L8z/jXs5blFSUHaSPk8/4poU6sbwex4/RxXsH/AAimh/8AQNi/M/40f8Ipof8A0DYvzP8AjXpf2LU/mR4H+t2H/kZ49xRxXsP/AAimh/8AQNi/M/40f8Ipof8A0DYvzP8AjR/YtT+ZB/rdh/5GeU6b/wAhO2/66L/OvV6u6N4U0L+2rL/iWQn98vByR1+tev8A/CL6H/0C7b/vgV42ZZVNTSckfV8P8UUZ0pNQe54nRXtn/CL6F/0C7b/vij/hFtC/6Bdt/wB8V5v9lz/mPoP9ZKf8jPKPDX/IyWH/AF1Fe3isuHw7pFtOs0GnW6SIcqwTkGtMV6GEw7oRcW7nhZnjo4yqpxVrIwvGX/IrXv8Au14wK+gLm2hu4GhniWSJvvKwyDWZ/wAIvof/AEC7b8ErHF4OVeSaZ05XmsMHBxlFu54nRXtn/CL6F/0C7b/vij/hFtC/6Bdv/wB8Vy/2XP8AmPU/1kpfyM+c/GH/ACAz/wBdFrz7vX1Z408LaEfDsoOl2/30OQuD1HpXmf8Awimh/wDQNi/M/wCNe5l+UVJUtJI+NzziqhTxVnB7Hj9JxXsP/CKaH/0DYvzP+NH/AAimh/8AQNi/M/413/2LU/mR43+t2H/kZ49xS17B/wAIpof/AEDYvzP+NH/CKaH/ANA2L8z/AI0f2LU/mQf63Yf+RnnPhP8A5GK3+j/+gmvRq3/BvhXQx4khP9mQH5G6gnt716d/wi2hj/mF23/fFeHmOVTVWzl0Psci4npTw3MoPc8Tor2z/hF9C/6Bdt/3xR/wi2h/9Au2/wC+K4P7Ln/Me1/rJT/kZ5z4C/5GuD/cf+VevA5rNtNE0yxmE1rYwwygY3ouDWkOgr0sLQdGnyNnz+Y4xYuv7VK2gtFFFdJwBRRRQAUUUUAFFFFABRRRQAUUUUAFFFFABRRRQAUUUUAFFFFABRRRQAUUUUAFFFFABWZr/wDyAr7/AK4P/wCgmtOszX/+QFff9cH/APQTV0/jRz4r+BP0Z5L6UUelFfXrY/KwooopgFX9F/5Dlj/13T+dUKv6L/yHLH/run86yr/w5eh0YT+PD1R676UtJS18ifqg015Z4p/5GS8+q/8AoAr1Mivln4r6jewfEzWYoby4jjVosKsrAD90nbNdGFxSw0+dq55+Y5bLMKapRlazud3+dFeJf2tqX/QQu/8Av83+NH9ral/0ELv/AL/N/jXf/bUP5Txv9T6v/PxHttFeJf2tqX/QQu/+/wA3+NH9ral/0ELv/v8AN/jR/bUP5Rf6n1f+fiPba9O8IceGrb6v/wChmvkT+1tS/wCghdf9/m/xr0zwprmqp4ZtFGoXGBv6yE/xmvOzLN4ypr3ep72QcKVadeT51sfRmR6ijI9q8M/t7Vv+ghcf99mj+3tW/wCghcf99mvE/tSH8rPsP9W6386Pc8j2oyPUV4Z/b2rf9BC4/wC+zR/b2rf9BC4/77NP+1IfysP9W6386Pcs+4pRzXhh17Vv+ghcf9916n4KuZrvwzbzTytJIWfLMcn7xrfD42NeXKkcOOympg6anKSetjocUYpaK7TyRMUuBRRQAYpMUtFADW+6a8Yn4uJP94/zr2dvumvGJ/8Aj4k/3j/OvXyj4pHynFHwU/mR0UUV7h8cFFFFAAelez23/HtH/u14welez2v/AB7Rf7orxc2+yfWcL/FU+RNik/Clorxj7ATFFLRQAUYoooAMUhFLSGgDN1//AJAd5/1yb+VeS161r/8AyArz/ri38q8lr3Mp+CR8VxP/ABoegUZoor1z5gKKKKALujn/AInVl/12X+devjpXkGj/APIasv8Arsv869fFeBmv8Reh9twx/An6hRiloryz6YTFLjFFFABSY9qWigBMUUtFAHOeM/8AkXpv95f/AEIV5rXpfjP/AJF6b/eT/wBCFeaV9Dlf8F+p8FxH/va9EFFFFekeAFFFFAG/4O/5GOH/AHG/lXpteZeDv+Rjh/3G/lXptfOZn/H+R97w5/ufzf6C4oxRRXnnviYpaKKACiiigAooooAKKKKACiiigAooooAKKKKACiiigAooooAKKKKACiiigAooooAKKKKACiiigArM1/8A5AV9/wBcH/8AQTWnWZr/APyAr7/rg/8A6Caul8aOfFfwJ+jPJfSij0or69bH5WFFFFMAq/ov/Icsf+u6fzqhV/Rf+Q5Y/wDXdP51lX/hy9Down8eHqj130paSlr5E/VBK+T/AIuf8lR1r/ei/wDRSV9Y18nfFz/kqOtf70X/AKKSs6mxvh/iOKooorE7AooooAK9I8Lf8i5af8D/APQzXm9ekeFv+Rbtf+B/+hmuLH/wvmezkv8AHfobA6UtA6UV4x9QFFFFACGvX/AX/Ip23+8//oRryA16/wCAv+RUtv8Aef8A9DNejln8V+h4HEX+7R9Tp6KBRXvnxQUUUUAFFFFADW+6a8Yn/wCPiX/fNezt9014xP8A8fEv++f516+UfFI+T4o+Cn8yOiiivcPjwooooAO1ez23/HtH/uivGO1ez23/AB7R/wC6K8XNvsn1nC/xVPkTUUUV4x9gFFFFABRRRQAUhpaQ0AZuv/8AICvP+uLfyryWvWtf/wCQHef9cW/lXkte5lPwSPiuJv40PQKKKK9c+YCiiigC7o//ACGrL/rsv869fWvINH/5DVl/12X+devrXgZr/EXofbcMfwJ+ovaiiivLPpgooooAKKKKACiiigDnfGf/ACL03+8n/oQrzSvS/Gf/ACL03+8n/oQrzSvocr/gv1PguJP97Xogooor0jwAooooA3/B3/Ixw/7jfyr06vMfB3/Ixw/7jfyr06vnMz/jn3vDn+5/N/oFFFFeee+FFFFABRRRQAUUUUAFFFFABRRRQAUUUUAFFFFABRRRQAUUUUAFFFFABRRRQAUUUUAFFFFABRRRQAVma/8A8gK+/wCuD/8AoJrTrM1//kBX3/XB/wD0E1dL40c+K/gT9GeS+lFHpRX162PysKKKKYBV/Rf+Q5Y/9d0/nVCr+i/8hyx/67p/Osq/8OXodGE/jw9Ueu+lLSelLXyJ+qCGvk/4uf8AJUda/wB6L/0UlfWFfJ/xc/5KjrX+9F/6KSs6mxvh/iOKooorE7AooooAK9I8Lf8AIt2n/A//AEM15vXpHhb/AJFu0/4H/wChmuLH/wAL5nsZL/HfobI6UlFGa8Y+pFopM0ZoADXr/gL/AJFS2/3n/wDQzXkFev8AgL/kVLb/AHn/APQzXo5Z/GfoeBxF/u0fU6cUUCivfPigooooAKKKKAGt9014xP8A8fEv++f517O33TXjE/8Ax8S/75/nXr5R8Uj5Pij4KfzI6KKK9w+PCiiigA7V7Pbf8e0f+6K8Y7V7Pbf8e0f+6K8XNvsn1nC/xVPkTUUUV4x9gFFFFABRRRQAUhpaQ0AZmv8A/ICvP+uTfyryavWtf/5Ad5/1xb+VeS17mU/BI+K4n/jQ9Aooor1z5gKKKKALuj/8hqy/67L/ADr18V5Bo/8AyGrL/rsv869fWvAzX+IvQ+24Y/gT9RaKKK8s+mCiiigAooooAKKKKAOd8Z/8i9N/vJ/6EK80r0vxn/yL03+8n/oQrzSvocr/AIL9T4LiT/e16IKKKK9I8AKKKKAN/wAHf8jHD/uN/KvTq8x8Hf8AIxw/7jfyr06vnMz/AI597w5/ufzf6BRRRXnnvhRRRQAUUd6KACiiigAooooAKKKO1ABRRRQAUUUUAFFFFABRRRQAUUUUAFFFFABRRRQAUUUUAFFFFABWZr//ACAr7/rg/wD6Ca06zNf/AOQFff8AXB//AEE1dP40c+K/gT9GeS+lFHpRX162PysKKKKYBV/Rf+Q5Y/8AXdP51Qq/ov8AyHLH/run86yr/wAOXodGE/jw9Ueu+lLSelLXyJ+qCE18qfFq2nf4n60yQyMpaLBVCQf3SV9VHrXlnir/AJGW8+q/+gCujDYX6zPkvY4MfmTy+mqqje7sfOn2S5/595f+/Zo+yXP/AD7y/wDfs17nRiu3+xf7x5H+uD/59/ieGfZLn/n3l/79mj7Jc/8APvL/AN+zXueKMUf2L/eD/XB/8+/xPDPslz/z7y/98GvS/Cun3reGrQrZ3BB34Iib++3tXUV6d4RAPhm1yM8v/wChtXn5llCjSXvdT3cg4rlUrySp9O55D/Z19/z5XH/fpv8ACl/s6+/58rj/AL9N/hXvOxf7oo2L/dFeJ/ZUf5j6/wD1kn/IvvPBv7Ovv+fK4/79N/hR/Z19/wA+Vx/36b/Cvedi/wB0UbF/uil/ZUf5g/1kn/IvvPBv7Ovif+PK4/79N/hXq/geKSHwtbpLGyOGfKspB+8exrodi/3R+VPUYrpw2CVCfMnc4cfm8sZTVNxtZ3FFFFFdx44UUUUAFFFFADW+6a8Yn/4+Jf8AfP8AOvZ2+6a8Yn/4+JP94/zr18o+KR8nxR8FP5kdFFFe4fHhRRRQAHpXs9t/x7R/7orxjtXs9t/x7R/7orxc2+yfWcL/ABVPkTUUUV4x9gFFFFABRRRQAUhpaQ0AZuv/APIDvP8Ari38q8lr1rX/APkBXn/XFv5V5LXuZT8Ej4rif+ND0CiiivXPmAooooAu6P8A8hqy/wCuy/zr19a8g0f/AJDVl/12X+devivAzX+IvQ+24Y/gT9RaKKK8s+mCiiigAooooAKKKKAOd8Z/8i9N/vJ/6EK80r0vxn/yL03+8n/oQrzSvocr/gv1PguJP97Xogooor0jwAooooA3/B3/ACMcP+438q9OrzHwd/yMcP8AuN/KvTq+czP+Ofe8Of7n83+gUUUV5574UUUUAFFFFABRRRQAUUUUAFFFFABRRRQAUUUUAFFFFABRRRQAUUUUAFFFFABRRRQAUUUUAFFFFABWZr//ACAr7/rg/wD6Ca06zNf/AOQFff8AXB//AEE1dL40c+K/gT9GeS0UUV9ej8rCiiimAVf0X/kOWP8A13T+dUKv6L/yHLH/AK7p/Osq/wDDl6HRhP48PVHrtLSUtfIH6oJXlfir/kZbz6r/AOgivVK8r8Vf8jLefVf/AEEV6eV/xn6HznE3+6x9f0Zj0UUV9CfDBRRRQAV6d4P/AORatvq//oZrzGvTvB3/ACLVt9X/APQ2ry81/hL1Po+Gv95l6G9S0g6UteAfchRRRQAUUUUAFFFFABRRRQAUUUUANb7prxif/j4l/wB8/wA69nb7prxif/j4l/3z/OvXyj4pHyfFHwU/mR0UUV7h8eFFFFAB2r2e2/49o/8AdFeMdq9ntv8Aj2j/AN0V4ubfZPrOF/iqfImooorxj7AKKKKACiiigApDS0hoAzdf/wCQFef9cW/lXkteta//AMgO8/65N/I15LXuZT8Mj4rif+ND0CiiivXPmAooooAu6P8A8hqy/wCuy/zr19a8g0f/AJDVl/12X+devivAzX+IvQ+24Y/gT9RaKKK8s+mCiiigAooooAKKKKAOd8Z/8i9N/vJ/6EK80r0vxn/yL03+8n/oQrzSvocr/gv1PguJP97Xogooor0jwAooooA3/B3/ACMcP+438q9OrzHwd/yMcP8AuN/KvTq+czP+Ofe8Of7n83+gUUUV5574UUUUAFFFFABRRRQAUUUUAFFFFABRRRQAUUUUAFFFFABRRRQAUUUUAFFFFABRRRQAUUUUAFFFFABWZr//ACAb7/rg/wD6Ca06panbPeabc20ZUPLGyAt0BIIq6bSmmzHERcqUordo8fo7V0//AAguqHpNaf8Afbf/ABNH/CCar/z2tP8Avtv/AImvpFjsP/MfnrybG/8APtnMUV0//CCar/z2tP8Avtv/AImj/hBNV/57Wn/fbf8AxNP69h/5hf2Njf8An2zmKvaL/wAhyw/67p/Otn/hBNV/57Wn/fbf/E1Z0/wZqNnqVtcyS2pSKVXYK7E4B/3azq42g4NKRvhsoxkK0ZSg7Jo7sHpTqYKfXzZ+hISvK/FX/Iy3n1X/ANBFepmuK1rwjqGpavPdwy2wjkK4DswPCgentXdl9WFKq5TdtDw89w1XEYdQpK7ucT2orp/+EE1X/ntaf99t/wDE0f8ACCar/wA9rT/vtv8A4mva+vYf+Y+T/sbG/wDPtnMUV0//AAgmq/8APa0/77b/AOJo/wCEE1X/AJ7Wn/fbf/E0fXqH8wv7Gxv/AD7ZzFeneD/+Ratvq/8A6Ga5j/hBNUH/AC2tP++2/wDia7HQbCXTNIhtJmRpE3ZKEkcsT3+tedmOIp1aaUHc93IcBiMPXcqsbKxqClpBS15B9YFFFFABRRRQAUUUUAFFFFABRRRQAxj8pFeMz/8AHxJ/vn+dezHuK8/l8Dam8rsJrTBJIy7ev+7XpZdXhSlLndj53P8AB1sTGCpRva5ytFdP/wAIJqn/AD2tP++2/wDiaP8AhBNV/wCe1p/323/xNet9ew/8x8x/Y2N/59s5iiun/wCEE1T/AJ7Wn/fbf/E0v/CCap/z2tP++2/+Jo+vYf8AmD+xsb/z7Zy56V7Pbf8AHvH/ALorz8+BdU/57Wn/AH23/wATXoEKlI0U4yBg4ry8xr06vLyO59Hw/gq+GlN1Y2vYmoooryz6YKKKKACiiigApDS0hoAzdf8A+QHef9cm/ka8lr1/VLZ7vTZ7eMqGkQqC3TkVw/8Awgmqf89rT/vtv/ia9bLsRTpRam7HyufYHEYmrF0o3sjmKK6f/hBNU/57Wn/fbf8AxNH/AAgmq/8APa0/77b/AOJr0vr2H/mPA/sbG/8APtnMUV0//CCap/z2tP8Avtv/AImj/hBNU/57Wn/fbf8AxNH16h/MH9jY3/n2zF0f/kM2X/XZf516+tcHYeDNRtdQt55JrUpHIGO1mJwD/u13a14+YVoVZpwdz6vIcLWw1KUasbNsdRRRXnnvBRRRQAUUUUAFFFIaAOd8Z/8AIvTf7yf+hCvNa9W8Q6dNqulSWsBRXYqQXJA4Oe2a5D/hBNU/57Wn/fbf/E17WX4mlSpWm7anyGeZficRieelG6scxRXUf8IJqn/Pa0/77b/4mk/4QTVf+e1p/wB9t/8AE13fXsP/ADHi/wBjY3/n2zmKK6f/AIQTVf8Antaf99t/8TS/8IHqv/Pa0/77b/4mj69h/wCYf9jY3/n2yt4O/wCRjh/3G/lXpwrjdA8LX2maql3PLblFUjCMxPI9wK7FeleHjqsalXmhsfYZJh6uHw3JVVncWiiiuM9gKKKKACijvRQAUUUUAFFFFABRRR2oAKKKKACiiigAooooAKKKKACiiigAooooAKKKKACiiigAooooAKSlooASilooASilooASjFLRQAmBS0UUAGKT8KWigBKKWigBKKWigBKKWigAooooAKKKKACiiigAooooAKKKKACiiigBKKWigBKKWigBKKWigBMcUAY7UtFABRRRQAUUUUAFFFFABRRRQAmKKWigBKKWigBKKWigBMUooooAKKKKACiiigAooooAKKKKAEIopaKAE/CilooASilooASloooAKKKKACiiigAooooAKKKKACiiigAooooAKKKKACiiigAooooAKKKKACiiigAooooAKKKKAEzilzXmXxi8Rav4esdJk0m+ktGmmkWQoAdwCjHUGvKP+Fl+Mv8AoPz/APftP/iaAPqPNLXmXwd8Rax4hstWfVr57toZo1jLKBtBUk9AK9NoAKaWA61l+INes/DmkT6lfPiOJSQgI3SN2Vc9zXzz4j+J/iPXrqXybx7OyYnZbw4BVeOrYyT+PrQB9Lm4hzgyoD6Zp4cEZBzXxvJdXEswme4laUHIcuSfzra0bxV4jsryGKw1a7RpHVFUtvBJOOjAjvQB9X5ozVe0Mi2kQnffKEG9sYycc0lzeQWsfmTypGvqzAU0m9ETKairydizuozWDY+I7bUtUNpbCQqqFvMIwDjHT863QeBTnCUHaSsZ0a9Osuam7oXNJvHrSN0rzXVNc1KHVbqOO9kVBKygYGAAa2w+GlXk4xOTMMxhgoqU1e56XvFKDmvK4te1V541N/IfmHYYr1GHJQEnkiniMNKhZS6k5fmcMdzciasSUUUVzHphRRRQAGm7hSnoa888QazqFprlzFBdSIilQFAGB8oPpW+HoSry5YnDj8dDBU1Umrq56FvA70uc15Q2v6sePt8gwM9B/hXpGjTPcaNZzSNud4VZm9TirxOEnQScnuYZfm1PHSlGCasaFFFFcp6oUUUUAFFFFABRRRQAUUma57xF4y0TwxAzajfIJR0t4iGlP0XOfz4oA6Kisbwvrsfibw/baxDE8UVxv2o5GQFdl5x/u1s0AFJmuN+KGsahofgyS9025a3uBMi71AJwc5HINeG/8LL8Zf8AQeuP++E/+JoA+pM0teNfCPxbr/iDxNeWuq6nJdQR2ZkVHVRht6jPAHYmvZe1ABRRRQAUUUUAFFFFABRRRQAUUUUAFFFFABRRRQAUUUUAFFFFABRR2ooAKKQketc/4j8Z6J4Xg8zUrxRJjK28ZDSsPULnOOOvSgDoaKw/CniGPxToUWrQwvBHK7qqOQSArEc4+lblABRmuH+Kes6joXg1rzTLpra4FxGgkUAnBzkcgivEv+Fl+Mv+g/cf9+0/+JoA+pM0teNfCPxbr3iDxJe22q6nLdQx2hkVGVRht6jPAHYmvZaACiiigAooooAKKKKACiiigAooooAKKKDQAUUmeK5bxN4/0HwtGwu7oTXIxi2tyry8+ozx+JoA6qiqOj6gNW0ax1FUaNbu3jnVG6qHUNj9avUAFFFFABRRRQAUUUUAFFFFABRRRQAUUUUAFFFFABRRRQB5l8YvD2reILHSU0qykumilkZwmPlBUY615P8A8K28X/8AQDuPzX/GvpTVNa0zRlifU9QtrNZSQhnkCBiOuM1nf8J14Vx/yMWmf+BK0Acn8HPD2reHrHVk1Wye1aaaNow+PmAUg9K9OrN0vW9M1pZG0y/t7xYiFkaCQOFJ5AOKTVNf0rRTENT1G2szNu8vz5Am/GM4z1xkfnQB5d8erqRbXRLRXwkkksjL6ldmD+prxQY/CvUvjRrel6zcaK2majbXnlJMJPIkDbc7MZx64P5V5bQB3vgL4aS+MLaW9ubxrSyR/LUogLOe+M8ADiu5tfghZ6fqtlfW+tXDi3uI5mjliXDBWBxkY64o+FfifQtL8EQ22oavZWtwJ5GMc0yq2CeDiu/s/FGhak8kdjq9ncvHGZHWGZWKqOpOO3NAm0tWWNWvGsNNnuUAZkTKg+vavMb/AFK71OQPdyF8HhQMAfQV2+u6zp9zo9zFFdRSOy4UKwyTXn/civcyygrOUlqfE8Q4xyqRhTn7tuh0Pg3/AJDnt5LfzFejCvM/Cl1Baat51xKkaCNhljjnIruF8QaWxCi+hyTgfOK5cyhJ1m0j0+H69OGE5ZSSd2ab9K8m1n/kMXg9JmP616vu3DPY15RrP/IavP8Arq3860yn+JL0MuJ/4MPX9CpD/rowehIBr2KEYjX6V49AMzxf7w/nXrjXEVtbiSaVI0A5LEAVWbayikY8MtRjUbJ8nNLn2Nc9c+L9Lt32iSSU+sa5H86bD4y0uVwredHn+J14/nXmrDVWr8rPof7RwqdnUR0o6UVUtL+3vI99vPHKP9lgcVaBzWTTTszsjOM1eLugPQ1574h0bUbnXbmaG1kkjfaVZen3QK9CPQ1m3Gs6fa3DQz3cSSL1VmGR35rfDVZ0p80FdnBmWFo4mkoVpWVzzv8A4R7Vmzmxl9K9H0eCS30ezhlXa8cKqw9CBVdvEGlZx9vg/BxWlDKk0KSRsGRhlWU5BHrWmKxFWskqisc+WYDDYacnRndsl7UmcHGKM+9Vrq+trNd1xcRxA9NzAVyJN6I9eU4xV5OxZ3c0Zrnp/GOlQtgPJL/1zXNQjxxphOPKuh/wAf41ssNWe0WcTzPCJ2dRfedMDz0pw61g23ijS7hwBcCMntL8tbMU6SoHjdXU9GU5BrOdOcPiVjoo4mlWV6ckyaikz71nalrmm6MI21LULa0WTIQzyBNxHXGag3PPPin8QtT8NXsOk6SFhneMTNcsA2ByMAEY/GvCry7ub65kubuZ5ppDl3c5Y13Pxd1Ww1fxbBcadeQXUItQpeFwwByeMiuBoA+m/hP/AMkz0j6Tf+jnrtK8y+GvizQNM8AaZZ32s2NtcR+buiknVWXMrkZB9iK7bTfEmjaxctBpuq2l5Kql2SCUMQuQMkDtyKAOV+M3/JPZv+viP+Zr5wHSvo/4zf8AJPZv+viP+Zr5wFAHqPwK/wCRv1H/ALB5/wDRiV7/AF8//Ao/8VfqH/Xgf/RiV7VqviXRtDP/ABMtUtbZsZEbygOfovU0Aa1Fecz/ABq8KQy7F+3Sj+/HAMfqQa29L+I3hfViFh1aCGQ9EuWERP0z1oA6uikDD1FLQAUUUhPHXFAC0Vy+q/EDwxo5ZbjWLd5FOGjgYSMp9wvSuf8A+F2eFfPMeNQx/f8AIG3/ANCoA9IorldN+IvhXVF/c6zbRNnAS5YRE/8AfWK6hWBGQRg980AOoopCcUALRWHdeL/DthdSWt3rdhBcRnDxyTqGU+hFQnx14VAz/wAJFpn/AIEr/jQB0VFMVwU3EjHXPtXJ6p8TPCuktsfVYrh/S1Il/AkcCgDr6K87tfjP4TuXKs97b+80Ax+hNdppmtabrMLS6bf292inDGGQNtPocdKANCik7Vm6prmmaN5Z1LUbazEmdhnkC7sdcZoA89+K3j7VPDN5baVpRWGeaETtclQxC5ZdoBGO3WvC7y8ub+4e4up3mlflnc5JrvPjDq2n6x4rsrjTr23vIlsQjPC4YBt7nGR3wRXntAH0p8H/APknVj/10l/9DNd3Xlnww8U6DpfgWytb7WbG2nV5S0Usyqwy5I4+ld7p3iTRtZneHTNUtLuVF3ssEocqOmTj3oA5D40/8k/b/r7i/ma+da+ivjT/AMk+b/r7i/ma+daAPUvgV/yNuo/9eJ/9GLXvteBfArjxbqP/AF4n/wBGLXs2r+JNH0M/8TLU7W1YruEckoDsPULnJoA16K85m+NPhSGXYDfyj++kA2/qQa29K+I3hbV2Cw6tDFITgR3DCIn6Z60AdXRSAg854paACijNRT3EVtC008qRRIMtI7BVUepJoAlorjdQ+J/hPT32nVo7g+lt+8/UcVjn43+FQ5Ai1MjP3hbr/wDFUAelUVxNl8V/CV7KIxqPkE950KD8+ldZZahaajAJ7K7guYTx5kMiuufqKALVIeRRWTqXiXRdHuFt9S1W0tJmQOsc0oVipJGcHtkH8qAPMPil8QtZ0fXH0PS5FtUSJWedQC7FhnjI47e9eLyO8kjSSOzs3JZjkk/Wuy+KWo2eqeObm6sLqK5t2ijAlicMpIXB5FcWelAH1r4N/wCRH0D/ALBtv/6LWtuuH8K+MvDVr4R0W3n17T4porCBHje4UMrCNQQRngg11Gm6zp2sxPLpt/b3caNtZoHDAHGcHFAGhRSCloAKKKKACiiigAooooAKKKKACiiigAooooAKKKKAPH/j3/yDdE/67y/+givEO1e3/Hv/AJBuif8AXeX/ANBFeIUAe3fAP/kGa5/18Rf+gmqvx/P73w5/u3X/ALSq18A/+QZrn/XxF/6Ca9G1/wAI6H4oa2Os2P2k227yv3rpt3Y3fdYZ+6vX0oA+S+lFelfF3wrovhefSF0ay+yidJTJ+9d920pj7xOOp/OvNe1AB+Fd78JeNe1jP/QJm/8AQkrrvhp4C8M+IfB0V/qmmefdGaRDJ58i8A8cKwFd9pXgDwzoU00+mab5Ek0LQSN58jZQ4yPmY+gpxdmmRVi5QcV1PPArDvRXb654Z0ux0qe4t4CsiLlSZGOPzNcOD/OvqcLiI1o3itj8zzDA1MJU5KnUXBPSnwhvOjyc/MP51qeG9Pt9S1Q290hePyy2AxHOR6fWuxXwfo6srrbEEHI/eN/jWOKxtOlJ05LU68BlFfEwVaDVrmzFjy0x6V5XrH/IavP+urfzr1faFHHSvKdY/wCQ1ef9dm/nXDlT/ey9D2eJlbD015/oU0Ox92OVIIq7qmrXWqygyuRCp+ROw/xqhk4Y11vhjw5b3toLy8TzEY5jQkjgcc+teniZ0qSVSau0fO4CjiMTJ0KLsnuclgg/MeT0oxjvxXqzaJprQtEbOHYRjAWuB8SaTHpN+FgGIJF3ICScHuOaxw2YQrT5LWZ1Y/JKuDp+1crop6Zqc2l3azwMwGR5ij+Je45r1HT7yO+s4rmL7ki5FeRDoTXoPgmUvpBjzxG7cfU5/rXPmdGPL7Rbnbw5jJqq6DejOnPSvLfFP/IxXn1X/wBBFepGvLvFP/IxXf8AvL/6CK58r/jP0PT4l/3WPqY5xz9K9W0Djw9Yf9e6f+givKD/ABfSvVtA/wCRd0//AK90/wDQRXTmy9yJ5vDD/ez9A1nU10rTnnbl87Y19WPSvM72+ub+czXMhkft6D6Cuk8cTyG6trfPybS+PfpXJDg1eW4eKp+0e7MM/wAbOeIdFP3YhkAZYYHrRkHjt9a7Xwba6fJbGYorXeSGJPIGeP6V1clrFKjJJEjIR0IorZl7Obhy7DweQSxFFVVNanj/AAD6gVs6Frk2l3CK0jG0Y4aPqFyeoqfX/D81pf4srd2t5BkIgJ2moLfwxqs6bvs4jH/TRsH9M1tOtQrUvea1OKnhsZhcRamnddj0uOVZY1kQ5UjINeQ/Hg5stH/66SfyFeleH7O5sNJitrplLpnG05GM8Ua74U0XxPHAur2X2lYSTH+9dME9fukV85OKjJpH6FQnKdOMpKzaPkqiu3+Knh/S/DfieGz0m1+zW7WwcpvZ/myecsSa4foKk2CvUfgWc+L7/jpYN/6MSuk+H3w98La74G07UtR0vz7uYSeZJ9olXOJGUcKwHQDtXd6H4I8O+Grx7vSNOFtPJGYmbzpHypIOMMxHUCgDnvjN/wAk9m/6+I/5mvnAV9H/ABm/5J7N/wBfEX8zXzgKAOh8JeKp/CN1fXdrGHuJ7YwRlhkISwO4+vArHv7671W/lvr64e4uZTl5H6n/ADip9F0e61/V7fTLJVM87bQWJAAxkk47AZr6V0D4f+HNBt1SHTYZpwu2Sedd5f14PA/CgD5ayMUHr/8AXr6k8R/D/QPEFm6SafDBcY/dzQLsKnHHTGR7Gvl+aGS3uJYJVKvE5RgexBxQB7N8IfHF9f3n/CPapO0+2ItayyHLcdVJ6ngnH0r2avj3R7qSx1qxu4mKyQzoysO3I/8Ar19hCgBCQK8E+IXxSu72+m0vQbh7eyRir3EfDTHHOD2GfTriu7+L3iCfQ/CSx2kvl3N7L5OR1CbSWI/ID8a+cAMccZoAQcduPal/nXp3wv8Ah3D4hVtW1eLzNOGUii3lTI4PU4xwOe9e2Q+GtDhthAmk2QjAwAYF6fXFAHyLkjtzXongH4mXfh2cWOrTTXWlFdqKAC8LZGCCece2fpWv8UfhxY6PYf23okIhiVgtxbgkhQf4hnOOeo968loA+zEcMgZTlTyCO4p56V5V8EtcN54fuNJmlZ5bKTMQOPliIGB+Bz+deq9qAPlf4i/8lB1r/r4P8hXLP9xvpXU/EX/koOtf9fB/kK5jqKAPS/iH8Sp9XkOk6LcyQ6ei7J3HytKwyDgjnb/OvNCCOoP0r1n4X/Day1jT/wC2tcg862lLLbwFmXOD984I46jHtXr7eGtEa3MH9k2XlkYwIF/nigD5GrT0HxBqXhrUvt2lzmGXGxuAQy5BIIPbgV1vxT8G2vhXVrabTIPK0+6j+VNxbZIDyOe2CP1rz/8AlQB9d+HtbtfEOiW2qWZPlTLna3VT3B9xXl3x55h0f6yf0rT+BUpbwjfxE5Ed+xXjoDGn9Qa7nXvCeieJvJ/tiy+0+Tny/wB66bc9fukUAfJP4Utd38V/D2leGvEtpZ6RafZoJLMSsvmM+W3sM5Yk9AK4SgBMjHtXqfwKOPFOp/8AXl/7Otbnw3+H/hfXvBVrqGp6X591I8geTz5FyA5A4VgOleg6F4J8PeGrqW60jTxbTSx+W7edI+VznHzMe4oA5r40/wDJPm/6+4v5mvnSvov40/8AJP2/6+ov5mvnWgDo/CHiqXwlNqN1bJvu57XyYCQCqtvUkn8AfxrF1DUr3Vr172/upbi4f7zyHJ+g9B7VLoukXWv6zbaXZ7fPuG2oW6DAJJPsAM19K6B8PfDmgwoIdNilmAw00/7wsfx4AoA+XMUnt0r6l8ReANA8Q2UkUlhBBPsxHPCuwofXAwD+NfLssTwTSRSqVkjYqwPYjrQB7H8JfH15c36eG9UmkuDICbSZzkjauShPXoCR19K9pXpXyBod5Jp+vWF3E214p0IP419fjpQAyaRIoWkkYKiAszHsBXzL45+IF/4tvJYIpJYNJGPLteBuI5y2O/6DA717p8QNN1TWvB15pukqpubjYpDOF+UMCf5Yr51v/BfibSwWu9DvI0/vKnmD/wAdzQBh96X8DmvX/hR8P7DUrKTWtatTKRMY4IJMgDA5Yjvye/pXrr+HtGkgMTaVZFSMEeQo/pQB8h963/Cvi/VPCeoJNZzN9nLAzW5PySDvn39/at74s+F7Hwz4htBpluLe0urff5YYnDhiG654wVrgqAPsXTr2DUdPgvbZ90E6CSM+oIzXg3x0/wCR2s/+wcn/AKMkr0b4PXJuPh/bgvuMU0kfXpg5x+tbmu+B/DviW9S81bThc3EcYiV/OkTCgkgYVgOrH86APlGjFdb8SdF0/wAP+M7iw0y38i1WKNlj3s2CVyeWJNcj1oAK93+BJx4d1M/9PY/9AFaPhr4ZeD9R8LaRe3WjiS4uLKGWV/tEo3OyAk4DYHJ7V2OheGdH8M28tvpFn9milfe6+Y75bGM/MTQBrijtRRQAUUUUAFFFFABRRRQAUUUUAJS0UUAFFFFABRRRQB4/8e/+Qbon/XeX/wBBFeH17h8e/wDkG6J/13l/9BFeIUAe3fAP/kGa5/18Rf8AoJr2GvHvgH/yDNc/6+Iv/QTXsNAHiXx8/wCPrQf9yf8AnHXjnavY/j5/x9aD/uT/AM468doA+j/g1/yT2H/r4l/nXf1wHwa/5J7D/wBfMv8AOvQDQBjeKP8AkAXX+7/WvLh/WvUPFH/IAuv93+teX172Vfw36nw3E3+8x9DovBf/ACHT/wBcm/mK9HXpXnHgv/kOn/rk38xXoy9K4cz/AN4Pa4c/3L5sR+leTaz/AMhq8/66t/OvWn6V5LrP/IavP+urfzrbKf4kvQ5uKP4MPX9CkqlyF9eK9fsIFgsoYVGFRABXkcP+vT/eFexQ/wCqX6VWbN+6jn4Xir1Jeg89K4/x2o+xW7d/MwPyNdjXIeO/+PC2/wCu39DXFgf94ie3nSTwMzhc/wBK7nwJ/wAedz/vj+VcMe1d14F/49bn/fH8q9jM/wCAfJcPf76vRnXdq8t8U/8AIw3f+8v/AKCK9S7V5b4p/wCRiu/95f8A0EV5+Vfxn6Hv8S/7rH1Mc9/pXq3h/wD5F3T/APr3T/0EV5Se/wBK9X8P/wDIu6f/ANe6f+giunNvgiebwv8AxZ+hheN7MvZxXajJjba30NcOeuR617FNEk8TxyLuRxgg964zU/BriVn0541T/nk2ePoeaywGMhTj7OZvneUVatT29LW+6ORWQxsHQsjjoynBrVtvEuq2wRUuiyL/AAuoOfxxmqN3p93YybbiFo/9ojINV+MfeB+leq4Uay1sz5qNTEYaVotxZ2Nn456i9tjx0MPP866LTdcstT/495DvxkowwwryylRzHIroSrqcqw7GuOtllOS9zRnq4XiHE0pJVPeX4nsoORTx0rmvCuttqVqYLhi1zD95sAbhng10g6V4VSm6cnGR9thsRDEUlUhsz57+OH/I62//AF5r/wChGvND0r0v44f8jrb/APXmv8zXmh6VB0H058J/+SZ6R9Jv/Rz12lcX8Jv+SZ6R9Jv/AEc9dpQB598Zv+SfTf8AXxH/ADNfOHavo/4zf8k+m/6+Iv5mvnDtQB6b8DEDeNbwlcsmntg+mXSvoIV4D8Cv+Rw1A/8AUPP/AKMSvf6AENfJfjJPL8a63GOi3swH/fZr61r5N8a/8j1rv/X/ADf+hmgDCBKkMDgqcg19nHpXxga+zzQB8+/G7UHuPF9tZZ/dW1sp2/7TEkn8tv5V5l9K7r4vRPH8Rr5m6SxxMv08tR/MGuFNAHs3gz4q+HfDnhLT9JuLfUTLbowcxxKVJLFjjLD1re/4Xh4W/wCfbVf+/Kf/ABdeLWnhDxDfWkV1aaPdzW8o3JIiZDD1FT/8IL4q/wCgDff9+6APVdW+MXhXU9Ju7JrbUyJ4mT54ExyOP468IGcc10P/AAgnirP/ACAb7/v3R/wgnir/AKAN9/37oA6f4JXBi8czRZ4lsnUj1IZSP5V9EV8+/DXwt4i0nxzY3V3pN3b2+11kkdMDBU9fxxX0F2oA+V/iL/yUHWv+vg/yFcu33T7Cuo+Iv/JQda/6+D/IVyz/AHD9KAPsPSLVLLRrK1QALFAiDHsKvYqOD/j3j/3R/KpKAPK/jrGP+ET0+XAyL4Ln6xv/AIV4HX0B8df+RMsf+win/ouSvn/tQB7p8Bv+QLq//Xyn/oNeuV5H8Bv+QJrH/Xyn/oNeuUAfP/x0/wCRzsP+wev/AKMevMK9O+On/I52H/YPX/0Y9eY96APpT4P/APJObH/rpL/6Ga7uuE+D/wDyTmx/66S/+hmu7oA86+NP/JP2/wCvuL+Zr51r6K+NP/JP2/6+4v5mvnU0AejfBWzS58cPMy5NtavIvPQnC/yY19ECvA/gV/yNuo/9eJ/9DWvfaAEIyK+R/FahPF2sKOgvJQP++jX1zXyT4t/5HLWv+v2X/wBCNAGOrFZFYcEEGvs0DivjH+IfWvs6gAqOSaOGMySOqIvVmOAK53xt4sh8JeH5b5kEs7EJbxE43sfX2HJr5p1nxBqniG5Fxql7JcuBgZwFH0UAAflQB9Dat8VPCuksyNetdSAZ2WybyefU4H61y+qfHawWEjSdKuZJOxuiqAH6KTn9K8PVGd1SNWd26Koyx/Kur0r4b+KtXwYtMeBCcb7g7B/jQBneJvFmreLLyO41SWNjCpWJUQIFBOSOmT071idK6Lxb4N1DwdPaQahPbSyXMbOv2dmYLggc5A9a52gD6F+B3/IjXH/X/J/6ClelmvNPgd/yItx/2EJP/QEr0s0AfNvxi/5KJdf9cIv/AEEVwVd78Yv+SiXX/XCL/wBBFcEKAPrTwb/yI/h//sG23/opa26xPBv/ACI/h/8A7Btt/wCilrboAKKKKACiiigAooooAKKKKACiiigAooooAKKKKACiiigDx/49/wDIN0T/AK7y/wDoIrxCvb/j3/yDdE/67y/+givEKAPbvgH/AMgzXP8Ar4i/9BNew1498A/+QZrn/XxF/wCgmvYaAPEvj5/x9aD/ALk/8468dr2L4+f8fWg/7k/8468doA+j/g1/yT2H/r5l/nXfmuA+DX/JPYf+viX+dd+aAMfxNzoN3/uV5dnivVdeTzNDvQOohY/pXlXavdyp+5JeZ8RxMv38H5HReCz/AMTz38lv5ivQw3OBXkdhfTadeJcwEBhwQehHpXQHxneSSosUCICwDEnOR3rPH4SrUq88VobZLmuHw2H9lU3ud6xryfWP+Q3ef9dW/nXqqNuiDV5VrBzrV4f+mzfzqMp0qS9Dfid3oU35/oVIf9fH/vD+dexw/wCrX6V47D/r4/8AeH869igOYl+lVm3xRI4X2qElch47/wCPC2/67f0NdfXIeO+dPtv+uv8AQ1xYH/eInsZ1/uNT0OFruvAv/Hrdf74/lXCdq7rwJ/x63P8Avj+Qr2cy/gM+S4e/31ejOv7V5b4p/wCRjux7r/6AK9S7V5d4o/5GO8+q/wDoArzsq/jP0Pf4m/3VepjHv9K9X8PnHh3T/wDr3T/0EV5Tjv6ivVdBH/FPWA/6d0/kK6c2+CJ5vDH8WfoVL7xVp1hcyQSGVpE4bYueetZ0njm0ORHbXBI5O4AZH51T8ZaU0c/9oxgbXIWTGfTg/pXJ8456VOFwVCrTUisxzfG4eu6eiXT0PXbSeK+tI50GUkXIqvd6Fpl5kzWiMx/iGQfzFcDo3iG50lhECHtv+eZHI57GuiPjqz2f8e1xu/DH865Z4KvSn7mx6NDOMDiKS9vZPzRQ8R+G7XT7I3dpuRVYBkZieDxxmuUGcZ7E1s6z4hn1X9zjy7cMGC9yfc1jYA57V7GEjVhTtVep8pmU8PUrt4dWR0ngjnW5QP8Anif5rXoo6Vx/grSzBA9+4GZhtTrkLn/6wrsB0rw8fOM67cT7XIqMqWDipddT57+N5/4rW2/681/9CNeaHpXsPx2s3F5pd4ATGytGT79cflXj/auM9g+m/hOf+LZ6R/22/wDRz12ea+dPBfxVufCuijSprFbq3iLGHDbCoJLEdOeSa7/4efES98Y+Ir6zuII4IY7fzYkQZPDAHJ79RQBc+M3/ACT6b/r4i/ma+cO1fR/xm/5J7N/18RfzNfOHagD1H4Ff8jfqH/Xgf/RiV7/XgHwK/wCRv1D/AK8D/wCjEr3+gAr5M8a/8j1rv/X/ADf+hmvrOvkzxr/yPWvf9f8AN/6GaAMI19nnmvjA19oUAeH/AB10cx3unayg4lQ2zn3GWH6Z/KvH+1fV3jTw1D4r8OzaZKQshIkhc5+SQZweO3Jr5WuraezupbW5iaKaJijo4wQRQB9HfCPV4b/wHZWocefZboZF9PmJU/kRXeZr5C0TXtT8O6h9u0q6NvcFdhbaGDLxwQQQegr1C0+O86WyrdaOjzAcskuAT9MUAep+KfEdt4W0SXVLpHeNCFCJ1dj0Ari7f44+GpOJbTUoj7xIR+jV5F4s8bav4vnBvpVW1Rt0VsigLGcYznGSevX1rm+nXvQB9V+HfHOg+KLg2+mXZe4EZkMTIQwUEDJ/MfnXS9q84+EvhGXQNDk1C+hC316Qy8nKRYBAPoScn8q9HoA+V/iL/wAlB1r/AK+D/IVyz/cP0rqfiL/yUHWv+vg/yFcs/wBw/SgD7Ng/1Ef+6P5VJUcP+oj/AN0fyqSgDy/46/8AImWP/YQT/wBFyV8/9hX0B8dP+RMsf+wgn/ouSvn8dBQB7p8Bv+QJrH/Xyn/oNeuV5H8Bv+QJq/8A18p/6DXrZoA+f/jp/wAjnYf9g9f/AEY9eYV6/wDHe1cahpN3t+Romiz7g5/rXkFAH0p8Hz/xbqx/66y/+hmu7r5x8EfE+fwjpDaZLYi7g8wyREPtKZxke/IJ/GvRfh58Q7zxjrl/aXFvHBHDAJYlTn+IA5P4igCX40/8k/b/AK+4v5mvnQ19F/Gn/kn7f9fUX8zXzrQB6l8Cf+Rt1H/rxP8A6MWvfa8C+BX/ACNuo/8AXif/AEYte+0AFfJHi3/kcta/6/Zf/QjX1vXyT4t/5HLWv+v2X/0KgDG/iX619ndq+Mf4l+tfZ3agDwD45XEjeL7K33kxpYqwTsCXcZ/8dFeYV638ctIuP7WsNXVSbdrcW7H+6wZm5/76ryT/APVQB9K/C3RLDTfBlld20K/aLtPOlkPLEnjGew46V3HA7V8yeDPiNqnhBBaIi3Only5gfgqSOqt+XHTr610esfG/Urq0MWl2MdlKf+Wzt5hH0BGPzoAb8drpH8TaZaqfnhsy7e29yB/6B/KvK6murm5vbmW5uZZJppDveRzk5/ziou9AH0J8Dv8AkRbj/sISf+gpXpR6V5h8DJVbwZeRZ+ZL9yfxRK9PPSgD5t+MXPxEuv8ArhF/6CK4OvSPjdCY/HNvJ2lsI2/EO4/oPzrzfg9aAPrPwYf+KH0D/sG2/wD6LWtyvn3wx8YrzQtCg0y609bv7OojhkD7cIAAoPHOPWvTPhx4wu/GGnX93dxxxNFc+XGkfQJtBGffk0AdtRQKKACiiigAooooAKKKKACiiigBKWiigAooooAKKKKAPOvix4U1fxVZaZFpMCSvBK7SBpAmAQAOteXf8Kf8Zf8APhB/4Ep/jX0rgUtAHnPwm8J6v4TstUi1aBInuJUeMJIHyApB6V6NSYFLQB5h8WfButeK59KbSYElFssok3SqmNxTHX/dNec/8Kf8Zf8APhB/4Ep/jX0rRQBx3w30PUPDnhGPTtSiWO4WZ3Kq4YYJ45Fdh2opD0oAjlVXQowyrDGK4DV/ClzBcyzWUYktzyqAksvqPevQcj3o/Ot6GInQleJ5+Oy+ljIctT7zyB7S5Rtr27q3oVNWLbRtRuXUQ2svP8bDCj8a9XwPSl4967ZZrUatynjw4ZoxldzZWtkeOziR8b1UBsetcHqXhzVLjUbmWOANG8rMDvHIJr0XijI964qGKnRk5R6nrYzLqWLhGnN6I8zi8Mask0ZNsMbhn5xxzXpcXCAUcUuRTxGJnXacugYDLqeC5vZvccelc34s0261K0hjtkDssm4gtjjBrosj3o4rKlUdOamuh1YmhHEUnSnszzH/AIRbVuf9F/Jx/jXWeEdNu9Ot51uowjO+QN2eK6Hil4ror46pWjyyPOweS0MLV9rBu449DXAa7oGo3uuXVxBCGjcrg7gP4QK73I96TisqGIlQlzROvHYKnjIKnN6Hmf8Awiurng2656cuK9A0mCW10q0t5cb44lVsHuBVzj3o496uvi510lLoY4HK6OCk5U27sjlhWaN45ArIwwQe4rjtU8GEyGTTnQL/AM8nJwPoa7bI96Mj0NZ0cROi7wZti8DQxcbVUeTXOkajauyyWkoA7gZB/EVV8ifOPKkz6ba9iwtGF9K9BZtO2sTw5cMUr+7NnlFrouo3TqsdpJhv4nGF/Oun0fwb5E6z6gY3I5WNCcZzxk8ZrsOPejj3rCtmNWorLRHZhcgw1CSnL3n5iKm3AGAo7VIDxTc0oxiuE91JLY57xl4UtvF2gvp9w5jZWEkMg/gcAjP05P518/658N/E+gylZbFrqLPE1rl0P6Aj8RX1FxS4FAz4/t9C1e8cpb6ZdysOoWFv8K9d+EngvXtA1mfVNTtRbQS2xiVHYbySyn7o6D5T+lex4oxQByHxI0K/8R+EZNO02NXuWmRgrOFGBnPJrxj/AIVB4y5/0CH/AMCU/wAa+lsUYoA8i+FngbXvC3iO7vNVto4oJLQxKyzK2W3qegPoDXro6UmB6UtACE4618/+Jvhb4r1PxRql/a2cLwXF1JLGxuEBKsxI4J9K+gaMUAfNP/Cn/GX/AD4wf+BKf419KjmlooAQjNcX4z+HOleLFe5YfZtSwALpMkkAYAYdCP1rtaMUAfMmsfCnxXpI3izS+QY+azJf9CAf0rl5tI1G3lMUtjcq47GJs19h4FGBQB8raV8PvFGsSBYNKmjU/wDLScbE/M16t4J+EVro0327XGgvr1WzEsZYxR9OeQMnr1Fep4oxQAijAoJpaMUAeDeMfhl4o1nxfqeo2VnE9tcTb42adFJGB2JrCPwf8ZEEGxg5He5T/GvpaigCODIhQHqFANSUYxRQBwvxU8Oan4n8N2tlpUKSzpeLKytIF+UI46n3YV5H/wAKf8Zf8+EH/gSn+NfS2KKAPPfhT4V1bwrpuoQarEkck0qugSQPwBjtXoVGKKAOb8a+E7bxfoDadO5jdX82CUfwOAQD7jBNeAa78NvE2gyYksvtUR5E1pmRfx4BH5V9R4FJgUAfIFtoerXr7LbTLqV+6rEcivXvhJ4N17QtYudT1K0+zW8tqYlV2/eFtykfL6cHrXsWKTAoA434l6DqHiXwidP0uJZLg3CPtZwowM55NeO/8Kf8Z/8APhB/4Ep/jX0pgUtAHkfws8Da94V8Q3d3qttHFDLamJSsqt825T2PoDXrgpMCloAQ18+eIPhX4s1DxJqd5b2ULQz3LyRk3CAlScjjNfQlFAHzUPg/4y3DNjAAOf8Aj5T/ABr6UU5FLRQBn6xo9nrelT6dqEIltZgA6ZI6HIII6HIrwHxD8H/EOkGSaw8vUbVeV8k/vQPQpj+VfR1JgelAHx++h6rHcC3bTrkTHohiOTXV6D8JvE2s7ZJok0+DOC10SG/BQCT+OK+lsCkwPSgDhZ/hxptp4G1LQ9KhAnukDNLI2WeQEEcnoMqOOleS/wDCoPGXX7BB/wCBKf419KYFLQB5F8MvCXizwprMyX9rGmnXKESbZkbaw+6cA59vxr1zqKXGaKAON8f+B4PGOmKkZji1KHBgncnaBnkHHY14LrHgTxLocrC70yV0Az5sA8xCPqK+rKTAoA+Q7Pw7rWoNi00q7l5x8sR617j8JfDGteGrC+OqwLAlyytHHuBccckgdPzzXpmBSYFACiiiigAooooAKKKKACiiigAooooASloooAKKKKACiiigAooooAKKKKACiiigBDWP4jvp9P0iS4t2CyAgAkZxkgVsGqOp6dHqdk9tKSFbuvUYq6bippy2MMTGcqUlT36Hn3/CWa0Cf9KUf9s1/wAKX/hLNa/5+1/79r/hXQjwLZnk3E+fqP8ACl/4QWz/AOfib8x/hXr+3wX8v4Hyf1LOP5/xOd/4SzWv+ftf+/a/4Uf8JZrX/P2v/ftf8K6L/hBbP/n4n/Mf4Uf8ILZ/8/E/5j/Cj2+C/l/APqWcfz/ic7/wlmtf8/a/9+1/wo/4SzWv+ftf+/a/4V0X/CC2f/PxP+Y/wo/4QWz/AOfif8x/hR7fBfy/gH1LOP5/xOd/4SzWv+ftf+/a/wCFH/CWa1/z9r/37X/Cui/4QWz/AOfif8x/hR/wgtn/AM/E/wCY/wAKPb4L+X8A+pZx/P8Aic7/AMJZrX/P2v8A37X/AAo/4SzWv+ftf+/a/wCFdF/wgtn/AM/E/wCY/wAKP+EFs/8An4n/ADH+FL2+C/l/APqWcfz/AInO/wDCWa1/z9r/AN+1/wAKP+Es1r/n7X/v2v8AhXRf8ILZ/wDPxP8AmP8ACj/hBbP/AJ+J/wAx/hR7fBfy/gH1LOP5/wATnf8AhLNa/wCftf8Av2v+FH/CWa1/z9r/AN+1/wAK6L/hBbP/AJ+J/wAx/hR/wgtn/wA/E/5j/Cj2+C/l/APqWcfz/ic7/wAJZrX/AD9r/wB+1/wo/wCEs1r/AJ+1/wC/a/4V0X/CC2f/AD8T/mP8KP8AhBbP/n4n/Mf4Ue3wX8v4B9Szj+f8Tnf+Es1r/n7X/v2v+FH/AAlmtf8AP2v/AH6X/Cui/wCEFs/+fif8x/hR/wAILZ/8/E/5j/Cj2+C/l/APqWcfz/ic7/wlmtf8/a/9+1/wo/4SzWv+ftf+/a/4V0X/AAgtn/z8T/mP8KP+EFs/+fif8x/hR7fBfy/gH1LOP5/xOd/4SzWv+ftf+/a/4Uf8JZrX/P2v/ftf8K6L/hBbL/n4n/Mf4Uf8ILZf8/E/5j/Cj2+C/l/APqWcfz/ic7/wletf8/a/9+l/wrtfDd7PfaPHPcuGlJbJC46Gsw+BbP8A5+J/zH+Fbmk6aml2S2sZZkUkgseTk5rmxVTDyhakrM9LLMPmFOtfEyvG3cvj1p1NGRTq88+hCiiigAooooAKKKKACiiigAooooAKKKKACiiigAooooAKKKKACiiigAooooAKKKKACiiigAooooAKKKKACiiigAooooAKKKKACiiigAooooAKKKKACiiigAooooAKKKKACiiigAooooAKKKKACiiigAooooAKKKKACiiigAooooAKKKKACiiigAooooAKKKKACkpaKAEopaKACiiigAooooAMUUUUAFFFFABRRRQAUYoooAKKKKACiiigAooooAKKKKACiiigAooooAKKKKACiiigAooooAKKKKACiiigAooooAKKKKACiiigAooooAKKKKACiiigAooooAKKKKACiiigAooooAKKKKACiiigAooooAKKKKACiiigAooooAKKKKACiiigAooooAKKKKACiiigAooooAKKKKACiiigAooooAKKSloAKKKKACiiigAooooAKKKKACiiigAooooAKKKKACiiigAooooAKKKKACiiigAooooAKKKKACiiigAooooAKKKKACiiigAooooAKKKKACiiigAooooAKKKKACiiigAooooAKKKKACiiigAooooAKKKKACiiigAooooAKKKKACiiigAooooAKKKKACiiigAooooAKKKKACiiigAooooAKKKKACiiigAooooAKKKKACiiigAooooAKKKKACiiigAooooAKKKKACikpaACiiigAooooAKKKKACiiigAooooAKKKKACiiigAooooAKKKKACiiigAooooAKKKKACiiigAooooAKKKKACiiigAooooAKKKKACiiigAooooAKKKKACiiigAooooAKKKKACiiigAooooAKKKKACiiigAooooAKKKKACiiigAooooAKKKKACiiigAooooAKKKKACiiigAooooAKKKKACiiigAooooAKKKKACiiigAooooAKKKKACiiigAooooAKKKKACiiigAooooAKKKKACiiigAooooAKKKKACiiigAooooAKKKKACiiigAooooAKKKKACiiigAooooAKKKKACiiigAooooAKKKKACiiigAooooAKKKKACiiigAooooAKKKKACiiigAooooAKKKKACiiigAooooAKKKKACiiigAooooAKKKKACiiigAooooAKKKKACiiigAooooAKKKKACiiigAooooAKKKKACiiigAooooAKKKKACiiigAooooAKKKKACiiigAooooAKKKKACikpaACiiigAooooAKKKKACiiigAooooAKKKKACiiigAooooAKKKKACiiigAooooAKKKKACiiigAooooAKKKKACiiigAooooAKKKKACiiigAooooAKKKKACiiigAooooAKKKKACiiigAooooAKKKKACiiigAooooAKKKKACiiigAooooAKKKKACiiigAooooAKKKKACiiigAooooAKKKKACiiigAooooAKKKKACiiigAooooAKKKKACiiigAooooAKKKKACiiigAooooAKKKKACiiigAooooAKKKKACiiigAooooAKKKKACiiigAooooAKKKKACiiigAooooAKKKKACiiigAooooAKKKKACiiigAooooAKKKKACiiigAooooAKKKKACiiigAooooAKKKKACiiigAooooAKKKKACiiigAooooAKKKKACiiigAooooAKKKKACiiigAooooAKKKKACiiigAooooAKKKKACiiigAooooAKKKKACiiigAooooAKKKKACiiigAooooAKKKKACiiigAooooAKKKKACiiigAooooAKKKKACiiigAooooAKKKKACiiigAooooAKKKKACiiigAooooAKKKKACiiigAooooAKKKKACiiigAooooAKKKKACiiigAooooAKKKKACiiigAooooAKKKKACiiigAooooAKKKKACiiigAooooAKKKKACiiigAooooAKKKKACiiigAooooAKKKKACiiigAooooAKKKKACiiigAooooAKKKKACiiigAooooAKKKKACiiigAooooAKKKKACiiigAooooAKKKKACiiigAooooAKKKKACiiigAooooAKKKKACiiigAooooAKKKKACiiigAooooAKKKKACiiigAooooAKKKKACiiigAooooAKKKKACiiigAooooAKKKKACiiigAooooAKKKKACiiigAooooAKKKKACiiigAooooAKKKKACiiigAooooAKKKKACiiigAooooAKKKKACiiigAooooAKKKKACiiigAooooAKKKKACiiigAooooAKKKKAP/Z)\n",
        "\n",
        "If you have used IFTTT, then you already understand the concept of conditionals:\n",
        "#### If *this* is true, then do *that*\n",
        "\n",
        "To see this in action, read the following code. Run it, and then write comments telling me what each line of code is doing. It is probably helpful to read the [documentation](https://numpy.org/doc/stable/reference/random/generated/numpy.random.rand.html) of the **np.random.rand()** function."
      ],
      "metadata": {
        "id": "22kmiX07Qrop"
      }
    },
    {
      "cell_type": "code",
      "source": [
        "import numpy as np\n",
        "x = np.random.rand()\n",
        "# What did line 2 do?:\n",
        "\n",
        "if x<0.5:\n",
        "    print('The number', x , 'is less than 0.5')\n",
        "    # What did lines 5-6 do?:\n",
        "else:\n",
        "    print('The number', x , 'is more than 0.5')\n",
        "    # What did lines 8-9 do?:"
      ],
      "metadata": {
        "id": "ZLNYI6tc2iKx"
      },
      "execution_count": null,
      "outputs": []
    },
    {
      "cell_type": "markdown",
      "source": [
        "Let's say that you have three conditions, each with their own outcome: result1, result2 and result3. You can use the following structure:\n",
        "\n",
        "```python\n",
        "    if condition1 is True:\n",
        "        print(result1)\n",
        "        \n",
        "    elif condition2 is True:\n",
        "        print(result2)\n",
        "        \n",
        "    else:\n",
        "        print(result3)\n",
        "```\n",
        "        \n",
        "Note: You can use the **pass** command to move on to the next condition without doing anything.\n",
        "\n",
        "Try this out yourself: the first line of code will return a random integer between 0 and 9. Use if, elif, and else to return the words \"result1\", \"result2\", and \"result3\" respectively if the value is less than or equal to 3, between 4 and 6, or greater than or equal to 7."
      ],
      "metadata": {
        "id": "Md8RvGiw2zpV"
      }
    },
    {
      "cell_type": "code",
      "source": [
        "randNum = np.random.randint(0,10)\n",
        "# put your if, elif, and else statements here"
      ],
      "metadata": {
        "id": "P6ED-HtA6bQh"
      },
      "execution_count": null,
      "outputs": []
    },
    {
      "cell_type": "markdown",
      "source": [
        "### Looping: Part 1\n",
        "\n",
        "One of the best parts of computer programming is getting the computer to do boring, repetitive work so that you don't have to! Let's say that you have a calculation that you need to do a certain number of times, like processing a set of 25 neurons, or EEG recordings from 16 participants. A *for-loop* will execute any specified code a certain number of times.\n",
        "\n",
        "I like to think about for-loops as a hand crank that will do the same process over and over.\n",
        "\n",
        "For example: If you wanted to write a for-loop to count from 0 to 4, you could do the following:\n",
        "\n",
        "```python\n",
        "for i in range(5):\n",
        "    print(i)\n",
        "```\n",
        "        \n",
        "Where:\n",
        "- **_for_** initiates the loop\n",
        "- **_i_** is the variable assigned a value in the range between 0 and 4\n",
        "- **_in_** is the function which assigns **_i_** to a value in **_range(5)_**\n",
        "- **_range(5)_** returns an integer between 0 and 4 according to how many times the for-loop has iterated. (Remember that the upper bound of *range* is non-inclusive).\n",
        "- **_print(i)_** prints the value of **_i_** because it is idented following the **for** command, indicating that it should be executed\n",
        "\n",
        "Pretty simple when you break it down, right?\n",
        "\n",
        "In the cell below, try it yourself - using the template above, write a loop that will print the numbers 0 through 9."
      ],
      "metadata": {
        "id": "RcKTf6w96fda"
      }
    },
    {
      "cell_type": "code",
      "source": [],
      "metadata": {
        "id": "UrpAXV256re5"
      },
      "execution_count": null,
      "outputs": []
    },
    {
      "cell_type": "markdown",
      "source": [
        "Let's try another example:\n",
        "\n",
        "In the cell below, write a for-loop that calculates and prints the square of each item in the list."
      ],
      "metadata": {
        "id": "F4REwdDe6vv0"
      }
    },
    {
      "cell_type": "code",
      "source": [
        "numList = [1,2,3,4,5]\n",
        "# Your loop here"
      ],
      "metadata": {
        "id": "ZyYlY0Kw6wKL"
      },
      "execution_count": null,
      "outputs": []
    },
    {
      "cell_type": "markdown",
      "source": [
        "#### Now let's try something a little bit harder!\n",
        "\n",
        "### Using loops to solve differential equations numerically\n",
        "\n",
        "Because computers are very good at doing lots of boring calculations, we can use them to accurately approximate solutions to differential equations. This is essential when the numerical solutions do not yet exist (such as in the Hodgkin & Huxley equations that we will see soon), but are also broadly helpful.\n",
        "\n",
        "Here, we will learn one such numerical method, **Euler's method**. It is the oldest and pretty simple, but as we will see in this tutorial, not always the most accurate.\n",
        "\n",
        "Let's start by implementing a solution by hand so that we understand what this method is doing. Consider a simple example:\n",
        "\n",
        "\\begin{equation*}\n",
        "\\frac{dy}{dx} = y\n",
        "\\end{equation*}\n",
        "\n",
        "With an initial condition of $y(0) = 1$. if you were to solve this equation analytically, you would find that it is $e^x$.\n",
        "\n",
        "Euler's method assumes that the slope of the function remains linear between any change in input. In other words, since our initial $y$ value is 1, it will assume a constant slope of 1 within some range of $x$. For this example, let's assume that range ($\\Delta x$) is 1.\n",
        "\n",
        "The Euler solution to a differential equation is:\n",
        "\n",
        "\\begin{equation*}\n",
        "y_{n+1} = y_{n} + \\Delta x * f(x_{n},y_{n})\n",
        "\\end{equation*}\n",
        "\n",
        "In this differential equation, the function $f$ is defined by $f(x,y) = y$\n",
        "\n",
        "We can therefore express our starting condition as:\n",
        "\n",
        "\\begin{equation*}\n",
        "f(x_{0},y_{0}) = f(0,1) = 1\n",
        "\\end{equation*}\n",
        "\n",
        "In order to find the next value of $y$, we need to multipy the current $y$ by the change in $x$:\n",
        "\n",
        "\\begin{equation*}\n",
        "\\Delta x * f(x_0,y_{0}) = 1 * 1 = 1\n",
        "\\end{equation*}\n",
        "\n",
        "This is like saying that from $x=0$ until $x=1$, we have a constant slope of 1.\n",
        "\n",
        "Putting it all together:\n",
        "\n",
        "\\begin{equation*}\n",
        "y_{1} = y_{0} + \\Delta x * f(x_{0},y_{0})\n",
        "\\end{equation*}\n",
        "\n",
        "\\begin{equation*}\n",
        "= 1 + 1 * 1 = 2\n",
        "\\end{equation*}\n",
        "\n",
        "Repeat the above steps by hand to find the Euler solution for $y_2$, $y_3$, and $y_4$. Fill in the values in the table below."
      ],
      "metadata": {
        "id": "EAavRRHR6xEf"
      }
    },
    {
      "cell_type": "code",
      "source": [
        "# Fill in the rest of this table\n",
        "\n",
        "# x_n      y_n      y_n+1\n",
        "# 0         1       2\n",
        "# 1         2\n",
        "# 2\n",
        "# 3"
      ],
      "metadata": {
        "id": "4dLnMDOs7J79"
      },
      "execution_count": null,
      "outputs": []
    },
    {
      "cell_type": "markdown",
      "source": [
        "It's tedious to do this by hand. Below, I have a template for a for-loop that can help. Fill it in, run your code, and verify that you are getting the same answers as you did above."
      ],
      "metadata": {
        "id": "uJ_9V-Bz74D-"
      }
    },
    {
      "cell_type": "code",
      "source": [
        "import numpy as np\n",
        "\n",
        "y = np.zeros(#) # fill in the parentheses with the number of values of y that you will have at the end\n",
        "y[0] =  # fill in the initial value of y\n",
        "deltaX =  # fill in this value\n",
        "\n",
        "for x in range(#): # fill in the parentheses with the number of desired iterations\n",
        "    # Note: the square brackets work just like the filtering operations you saw in Lab 1!\n",
        "    y[x+1] = y[x] + deltaX*y[x]\n",
        "\n",
        "print(y)"
      ],
      "metadata": {
        "id": "TRhajVof78To"
      },
      "execution_count": null,
      "outputs": []
    },
    {
      "cell_type": "markdown",
      "source": [
        "Let's see how close this is to the real (analytical) solution.\n",
        "\n",
        "Use the **_numpy_** package to make a 1-dimensional array of the values you calculated above, and call it *y*."
      ],
      "metadata": {
        "id": "X5HnQEqI8ymp"
      }
    },
    {
      "cell_type": "code",
      "source": [
        "yHat = # fill me in"
      ],
      "metadata": {
        "id": "4x7vqHJ485gi"
      },
      "execution_count": null,
      "outputs": []
    },
    {
      "cell_type": "markdown",
      "source": [
        "Now you are going to need to create an array of the first 4 values of the analytical solution: $y = e^x$\n",
        "\n",
        "The **_numpy_** package has an **exp()** function which returns the value of $e^x$. This function can also work with a vector of numbers as well, returning $e^x$ for each element.\n",
        "\n",
        "Create an x vector with the values 0 through 3, and use **np.exp()** to save the calculated values in a vector y."
      ],
      "metadata": {
        "id": "Wg_E1BlE9Bbh"
      }
    },
    {
      "cell_type": "code",
      "source": [
        "# Your code here"
      ],
      "metadata": {
        "id": "cXmERzhL9Bw6"
      },
      "execution_count": null,
      "outputs": []
    },
    {
      "cell_type": "markdown",
      "source": [
        "Let's see how good the Euler method actually is. We can express this in terms of mean squared error (MSE). This is the average of the sum of squared differencess between y and yHat:\n",
        "\n",
        "\\begin{equation*}\n",
        "MSE = \\frac{1}{n}\\sum_{i=1}^n (y_i-yHat_i)^2\n",
        "\\end{equation*}\n",
        "\n",
        "Compute the MSE below. Hint: two vectors of the same length can be subtracted from one another, resulting in a vector of the elementwise differences. For example:\n",
        "\n",
        "\n",
        "```\n",
        "vector1 = np.array([2,4,6,8])\n",
        "vector2 = np.ones(4)\n",
        "print(vector1 - vector2)\n",
        "```\n",
        "Would yield the array:\n",
        "\n",
        "\n",
        "```\n",
        "[1,3,5,7]\n",
        "```\n",
        "\n",
        "\n"
      ],
      "metadata": {
        "id": "YJ0moaLX9Lt3"
      }
    },
    {
      "cell_type": "code",
      "source": [
        "# Your code here"
      ],
      "metadata": {
        "id": "pFpCSC-G9J_X"
      },
      "execution_count": null,
      "outputs": []
    },
    {
      "cell_type": "markdown",
      "source": [
        "When done correctly, your MSE should be approximately 39.5. Not so great, right? If you look at the differences between y and yHat, you'll see that the error grows larger with each point. This implies that reducing the step size should also reduce the error. Let's try reducing the change in x to 0.5. In the cell below, change the Euler's solution code that you wrote to have steps of 0.5 instead of steps of 1.\n",
        "\n",
        "Hints:\n",
        "- $\\Delta x$ is now 0.5, but the **range()** function can only step up in integer intervals. Use **np.arange(a, b, c)** to create an array that goes from a to b in steps of c (remember that this is non-inclusive). Call this x.\n",
        "- The length of both your x and y vectors will change. You may find it helpful to define the x vector first, and use the **len()** function to dictate the size of your y vector."
      ],
      "metadata": {
        "id": "WKOwGlC--CmY"
      }
    },
    {
      "cell_type": "code",
      "source": [
        "# Your code here"
      ],
      "metadata": {
        "id": "DDIGL5-R-G8n"
      },
      "execution_count": null,
      "outputs": []
    },
    {
      "cell_type": "markdown",
      "source": [
        "Now, let's calculate the new MSE.\n",
        "\n",
        "As before, create a new *y* with the analytical solution and compute MSE as above. If done correctly, your new MSE should be about 14.79."
      ],
      "metadata": {
        "id": "CgAP3EsA-Xdm"
      }
    },
    {
      "cell_type": "code",
      "source": [
        "# Your code here"
      ],
      "metadata": {
        "id": "_w6DhpLO_WWV"
      },
      "execution_count": null,
      "outputs": []
    },
    {
      "cell_type": "markdown",
      "source": [
        "Going from a mean squared error of 39.5 to 14.79 is a huge improvement! The key point that you should take away is that decreasing step size will vastly improve the accuracy of Euler's method, and using a loop to do this makes the process far less annoying!\n",
        "\n",
        "Let's use another example with a different differential equation:\n",
        "\n",
        "\\begin{equation*}\n",
        "\\frac{dy}{dx} = -2y\n",
        "\\end{equation*}\n",
        "\n",
        "Where $y(0) = 3$.\n",
        "\n",
        "The analytical solution to this equation is:\n",
        "\n",
        "\\begin{equation*}\n",
        "y(x) = 3e^{-2x}\n",
        "\\end{equation*}\n",
        "\n",
        "Write for-loop that will calculate the Euler's solution and the analytical solution between 0 and 3 for each value in the given x vector. Use a step size of 0.1. Plot the analytical solution in blue and the Euler's solution in red.\n",
        "\n",
        "Hints:\n",
        "- You will need to import the matplotlib library because you will be plotting.\n",
        "- You will need to index each element of the x vector in the loop.\n",
        "- You will need to initiate your yHat vector with zeros outside of the loop."
      ],
      "metadata": {
        "id": "zXZbB31W_YQJ"
      }
    },
    {
      "cell_type": "code",
      "source": [
        "import matplotlib.pyplot as plt\n",
        "import numpy as np\n",
        "\n",
        "# define step size\n",
        "deltaX = ###\n",
        "\n",
        "# define x\n",
        "x = ###\n",
        "\n",
        "# define true y (analytical solution)\n",
        "y = ###\n",
        "\n",
        "# define initial y\n",
        "yHat = np.zeros(len(x))\n",
        "yHat[0] = ###\n",
        "\n",
        "# your for-loop goes here\n",
        "for i in range(###):\n",
        "    yHat[i+1] = ###\n",
        "\n",
        "\n",
        "# plot the results\n",
        "plt.plot(x, y, x, yHat)"
      ],
      "metadata": {
        "id": "ZlX1Iurra7c-"
      },
      "execution_count": null,
      "outputs": []
    },
    {
      "cell_type": "markdown",
      "source": [
        "#### Well done! You just used a for-loop to do a bunch of calculations for you and all you had to do what give it the right instructions.\n",
        "\n",
        "### Using conditionals and loops together\n",
        "\n",
        "Let's move onto something new:\n",
        "\n",
        "In Python the “%” has two different uses. When used in a math problem, it is used to represent *modulus*. The modulus of a number is the remainder left when you divide two numbers. Because of this, it can be used to determine if one number is a factor of another.\n",
        "\n",
        "In the cell below, use the modulus in the conditional statement to fill in the template. The resulting code should loop from 2 to x and print whether each number *x* is divisible by each of the numbers from *i* that range from 2 to *x*."
      ],
      "metadata": {
        "id": "LXi3SqxMa_7n"
      }
    },
    {
      "cell_type": "code",
      "source": [
        "x = 8\n",
        "\n",
        "for i in range(2,x):\n",
        "    if # fill in the if statement with the modulus (remember that you need : after an if statement)\n",
        "        print('The number', x , 'is divisible by', i)\n",
        "    else:\n",
        "        print('The number',x , 'is not divisible by', i)"
      ],
      "metadata": {
        "id": "w50niJUeceOK"
      },
      "execution_count": null,
      "outputs": []
    },
    {
      "cell_type": "markdown",
      "source": [
        "Right now, the code is not especially useful. We can easily change it into a script that can tell you whether or not a number is prime. In the space below, alter the code in the following ways:\n",
        "- Rather than printing out a statement at each step of the loop, have a single statement printed at the end that reads \"The number X is a prime number\" or \"The number X is not a prime number\" as appropriate.\n",
        "\n",
        "\n",
        "- In order to find out whether any factors have been found, create a variable that is initialized to be 0, but changes its value to 1 if a factor has been found.\n",
        "\n",
        "\n",
        "- In order to test your code completely, test it with x values of both 11 and 8."
      ],
      "metadata": {
        "id": "dz3c8w8HcxH0"
      }
    },
    {
      "cell_type": "code",
      "source": [
        "# Your code here"
      ],
      "metadata": {
        "id": "1Kkam3Iwc_4s"
      },
      "execution_count": null,
      "outputs": []
    },
    {
      "cell_type": "markdown",
      "source": [
        "Assessing whether or not a number is prime, especially using the algorithim above, is not very efficient. (Fun fact: nearly all of computer security and encryption is based on this fact!) You can test this for yourself by using your code to determine if 100992929 is a prime number."
      ],
      "metadata": {
        "id": "6Y5HQbJpf5hy"
      }
    },
    {
      "cell_type": "code",
      "source": [
        "# Your code here"
      ],
      "metadata": {
        "id": "bzkdmPTBgHod"
      },
      "execution_count": null,
      "outputs": []
    },
    {
      "cell_type": "markdown",
      "source": [
        "One way of improving the efficiency of the code, is to stop once it has found a factor. The **_break_** statement will stop a for-loop once a condition is met. Try your code with the number 100992920, and add a break once a first factor is found. Using **time()**, write a comment about how much time was saved (i.e. percent decrease of runtime)."
      ],
      "metadata": {
        "id": "29OFT-KvgKSN"
      }
    },
    {
      "cell_type": "code",
      "source": [
        "from time import time\n",
        "t0 = time()\n",
        "x = 100992920\n",
        "\n",
        "# Your code here\n",
        "\n",
        "t1 = time()\n",
        "print('RunTime: ',t1-t0)\n",
        "# Answer:"
      ],
      "metadata": {
        "id": "eCgbvgiagPQv"
      },
      "execution_count": null,
      "outputs": []
    },
    {
      "cell_type": "markdown",
      "source": [
        "### While loops\n",
        "\n",
        "Sometimes, we don't know in advance the number of iterations we will need to perform. Fortunately, there is another kind of loop that will keep computing *while* some logical condition is met. Not surprisingly, it is called a while-loop.\n",
        "\n",
        "![image2.jpeg](data:image/jpeg;base64,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)\n",
        "\n",
        "Be very careful with while loops - a small slip up can make a loop that will run forever and crash your Colab notebook!\n",
        "\n",
        "Consider the differences between these two loops:\n",
        "\n",
        "```python\n",
        "x = 0\n",
        "while x < 100:\n",
        "    x = x + 1\n",
        "```\n",
        "\n",
        "Versus:\n",
        "\n",
        "```python\n",
        "x = 0\n",
        "while x < 100:\n",
        "    y = x + 1\n",
        "```\n",
        "\n",
        "In the first case, the loop will start at 0 and add 1 to x each time until it reaches 100. In the cell below, write a comment to explain why the second example will never end."
      ],
      "metadata": {
        "id": "aN3Yvle_gVCf"
      }
    },
    {
      "cell_type": "code",
      "source": [
        "# Your answer here:"
      ],
      "metadata": {
        "id": "UTaT7sDNgr1x"
      },
      "execution_count": null,
      "outputs": []
    },
    {
      "cell_type": "markdown",
      "source": [
        "#### While loops are more general than for-loops and are typicallty used when you don't know how many calculations you need to make.\n",
        "\n",
        "### Writing your own functions\n",
        "\n",
        "So far, you have had practice using Python's built-in functions and downloading different packages and using those functions. However, what if you have a really specific problem you want to fix that no package or library can help you with? You make your own! Functions are helpful because they execute a certain piece of code, so you don't have to keep writing it everytime you want to do use it.\n",
        "\n",
        "Here is an example of how to make an adding function:\n",
        "\n",
        "```python\n",
        "def my_function(parameter1, parameter2):\n",
        "    total = parameter1 + parameter2\n",
        "    return total\n",
        "```\n",
        "        \n",
        "Where:\n",
        "- **_def_** defines the variable as a function.\n",
        "- ***my_function*** defines the name of the function.\n",
        "- **_(parameter1, parameter2)_** are the two parameters that must be passed in the function. Note: a function may require more or fewer parameters. We are simply using two as an example.\n",
        "- **_total_** is the variable set to the sum of *paramter1*, and *parameter2*.\n",
        "- **_return total_** returns the value of **_total_**\n",
        "        \n",
        "To execute this function, just type ***my_function(a,b)*** where a and b are two numbers you want to add.\n",
        "\n",
        "**Challenge**:\n",
        "Fill in the template for the function below. The function will take in an input, *x*, and return all of the prime numbers less than *x*."
      ],
      "metadata": {
        "id": "_SKKV07sg2Ol"
      }
    },
    {
      "cell_type": "code",
      "source": [
        "def findPrime(x):\n",
        "\n",
        "    # start an empty list of prime numbers\n",
        "    primes = []\n",
        "\n",
        "    # for each integer i between 2 and x, we are going to see if i has a factor.\n",
        "    # foundFactor is False when no factors have been found, and True when a factor is found\n",
        "    foundFactor = False\n",
        "\n",
        "    for i in range():   # fill in the parentheses to test every integer from 2 to x\n",
        "\n",
        "        # This is a nested for-loop. This means for every number i, we will test for factors between 2 and i\n",
        "        for j in range():  # fill in the parentheses appropriately\n",
        "\n",
        "            # each time we go through the j loop, we want to set this back to False\n",
        "            foundFactor = False\n",
        "\n",
        "            if : # fill in the conditional using the modulus\n",
        "                foundFactor = True\n",
        "                break\n",
        "\n",
        "        # the indentation is very important here: it is in line with the j loop meaning this will only run when\n",
        "        # the j loop is done. This means that if foundFactor is False, the number is prime and we will add it\n",
        "        # to our list of prime numbers.\n",
        "        if foundFactor is False:\n",
        "            primes.append(i)\n",
        "\n",
        "    return primes\n",
        "\n",
        "\n",
        "# now, test your function by asking it to return all of the prime numbers < 50"
      ],
      "metadata": {
        "id": "ezY1VjwhhLPV"
      },
      "execution_count": null,
      "outputs": []
    },
    {
      "cell_type": "markdown",
      "source": [
        "#### Great job!\n",
        "\n",
        "Don't forget to download your notebook as a PDF"
      ],
      "metadata": {
        "id": "BympeJXkhfOG"
      }
    },
    {
      "cell_type": "code",
      "source": [],
      "metadata": {
        "id": "eadKDY7yhXLk"
      },
      "execution_count": null,
      "outputs": []
    }
  ]
}